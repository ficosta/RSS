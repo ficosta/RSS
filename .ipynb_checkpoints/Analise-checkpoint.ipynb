{
 "cells": [
  {
   "cell_type": "code",
   "execution_count": 4,
   "metadata": {},
   "outputs": [],
   "source": [
    "import sqlite3\n",
    "import pandas as pd\n",
    "import matplotlib.pyplot as plt\n",
    "import numpy as np"
   ]
  },
  {
   "cell_type": "code",
   "execution_count": 7,
   "metadata": {},
   "outputs": [],
   "source": [
    "conn = sqlite3.connect('db/RSS.sqlite')"
   ]
  },
  {
   "cell_type": "code",
   "execution_count": 8,
   "metadata": {},
   "outputs": [],
   "source": [
    "df = pd.read_sql_query(\"SELECT * FROM RSS\", conn)"
   ]
  },
  {
   "cell_type": "code",
   "execution_count": 33,
   "metadata": {},
   "outputs": [
    {
     "data": {
      "text/plain": [
       "publisher\n",
       "agro                     18\n",
       "arte                     59\n",
       "brasil                  130\n",
       "carreira                 79\n",
       "carros                   45\n",
       "ciencia                  17\n",
       "ciencia e saude          44\n",
       "cinema                   36\n",
       "comida                   15\n",
       "economia                155\n",
       "educacao                 87\n",
       "empresas                 35\n",
       "esporte                 213\n",
       "geral                    47\n",
       "loterias                 41\n",
       "moda                     21\n",
       "mundo                   176\n",
       "musica                   51\n",
       "natureza                 54\n",
       "politica                 50\n",
       "saude                    12\n",
       "tecnologia              164\n",
       "tecnologia e  games      40\n",
       "tecnologia e ciencia     56\n",
       "turismo                  52\n",
       "dtype: int64"
      ]
     },
     "execution_count": 33,
     "metadata": {},
     "output_type": "execute_result"
    }
   ],
   "source": [
    "df.groupby('publisher').size()"
   ]
  },
  {
   "cell_type": "code",
   "execution_count": null,
   "metadata": {},
   "outputs": [],
   "source": []
  }
 ],
 "metadata": {
  "kernelspec": {
   "display_name": "Python 3",
   "language": "python",
   "name": "python3"
  },
  "language_info": {
   "codemirror_mode": {
    "name": "ipython",
    "version": 3
   },
   "file_extension": ".py",
   "mimetype": "text/x-python",
   "name": "python",
   "nbconvert_exporter": "python",
   "pygments_lexer": "ipython3",
   "version": "3.7.2"
  }
 },
 "nbformat": 4,
 "nbformat_minor": 2
}
