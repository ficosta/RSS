{
 "cells": [
  {
   "cell_type": "code",
   "execution_count": 34,
   "metadata": {},
   "outputs": [],
   "source": [
    "import sqlite3\n",
    "import pandas as pd\n",
    "import matplotlib.pyplot as plt\n",
    "import numpy as np"
   ]
  },
  {
   "cell_type": "code",
   "execution_count": 35,
   "metadata": {},
   "outputs": [],
   "source": [
    "conn = sqlite3.connect('db/RSS.sqlite')"
   ]
  },
  {
   "cell_type": "code",
   "execution_count": 36,
   "metadata": {},
   "outputs": [],
   "source": [
    "df = pd.read_sql_query(\"SELECT * FROM RSS\", conn)"
   ]
  },
  {
   "cell_type": "code",
   "execution_count": 37,
   "metadata": {},
   "outputs": [
    {
     "data": {
      "text/plain": [
       "publisher\n",
       "BAND      96\n",
       "BBC       20\n",
       "EBC       59\n",
       "Folha    215\n",
       "G1       711\n",
       "R7       627\n",
       "UOL      308\n",
       "Valor    247\n",
       "dtype: int64"
      ]
     },
     "execution_count": 37,
     "metadata": {},
     "output_type": "execute_result"
    }
   ],
   "source": [
    "df.groupby('publisher').size()"
   ]
  },
  {
   "cell_type": "code",
   "execution_count": 38,
   "metadata": {},
   "outputs": [
    {
     "data": {
      "text/plain": [
       "keyword\n",
       "agro                     20\n",
       "arte                     68\n",
       "brasil                  156\n",
       "carreira                 79\n",
       "carros                   47\n",
       "ciencia                  19\n",
       "ciencia e saude          47\n",
       "cinema                   58\n",
       "comida                   17\n",
       "economia                246\n",
       "educacao                 93\n",
       "empresas                 55\n",
       "esporte                 347\n",
       "geral                    96\n",
       "loterias                 42\n",
       "moda                     22\n",
       "mundo                   246\n",
       "musica                   51\n",
       "natureza                 57\n",
       "politica                 57\n",
       "saude                    13\n",
       "tecnologia              257\n",
       "tecnologia e  games      40\n",
       "tecnologia e ciencia     89\n",
       "turismo                  61\n",
       "dtype: int64"
      ]
     },
     "execution_count": 38,
     "metadata": {},
     "output_type": "execute_result"
    }
   ],
   "source": [
    "df.groupby('keyword').size()"
   ]
  },
  {
   "cell_type": "code",
   "execution_count": null,
   "metadata": {},
   "outputs": [],
   "source": []
  }
 ],
 "metadata": {
  "kernelspec": {
   "display_name": "Python 3",
   "language": "python",
   "name": "python3"
  },
  "language_info": {
   "codemirror_mode": {
    "name": "ipython",
    "version": 3
   },
   "file_extension": ".py",
   "mimetype": "text/x-python",
   "name": "python",
   "nbconvert_exporter": "python",
   "pygments_lexer": "ipython3",
   "version": "3.7.2"
  }
 },
 "nbformat": 4,
 "nbformat_minor": 2
}
